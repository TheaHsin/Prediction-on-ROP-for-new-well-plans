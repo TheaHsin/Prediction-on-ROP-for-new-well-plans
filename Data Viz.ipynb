{
 "cells": [
  {
   "cell_type": "code",
   "execution_count": 14,
   "id": "6384f625",
   "metadata": {},
   "outputs": [],
   "source": [
    "import pandas as pd\n",
    "import numpy as np\n",
    "import matplotlib.pyplot as plt\n",
    "import seaborn as sns"
   ]
  },
  {
   "cell_type": "code",
   "execution_count": 2,
   "id": "593128c5",
   "metadata": {},
   "outputs": [],
   "source": [
    "df = pd.read_csv('training.csv')"
   ]
  },
  {
   "cell_type": "code",
   "execution_count": 5,
   "id": "26301987",
   "metadata": {},
   "outputs": [
    {
     "data": {
      "text/html": [
       "<div>\n",
       "<style scoped>\n",
       "    .dataframe tbody tr th:only-of-type {\n",
       "        vertical-align: middle;\n",
       "    }\n",
       "\n",
       "    .dataframe tbody tr th {\n",
       "        vertical-align: top;\n",
       "    }\n",
       "\n",
       "    .dataframe thead th {\n",
       "        text-align: right;\n",
       "    }\n",
       "</style>\n",
       "<table border=\"1\" class=\"dataframe\">\n",
       "  <thead>\n",
       "    <tr style=\"text-align: right;\">\n",
       "      <th></th>\n",
       "      <th>segment_id</th>\n",
       "      <th>wellbore_chev_no_id</th>\n",
       "      <th>area_id</th>\n",
       "      <th>formation_id</th>\n",
       "      <th>bit_model_id</th>\n",
       "      <th>drillbit_size</th>\n",
       "      <th>min_depth</th>\n",
       "      <th>max_depth</th>\n",
       "      <th>rate_of_penetration</th>\n",
       "      <th>surface_weight_on_bit</th>\n",
       "      <th>surface_rpm</th>\n",
       "    </tr>\n",
       "  </thead>\n",
       "  <tbody>\n",
       "    <tr>\n",
       "      <th>2596</th>\n",
       "      <td>wellbore_chev_no_20_622</td>\n",
       "      <td>wellbore_chev_no_20</td>\n",
       "      <td>area_1</td>\n",
       "      <td>formation_221</td>\n",
       "      <td>bit_model_11</td>\n",
       "      <td>18.125</td>\n",
       "      <td>18660.0</td>\n",
       "      <td>18689.5</td>\n",
       "      <td>148.018593</td>\n",
       "      <td>43.791498</td>\n",
       "      <td>201.626499</td>\n",
       "    </tr>\n",
       "    <tr>\n",
       "      <th>931</th>\n",
       "      <td>wellbore_chev_no_15_506</td>\n",
       "      <td>wellbore_chev_no_15</td>\n",
       "      <td>area_0</td>\n",
       "      <td>formation_231</td>\n",
       "      <td>bit_model_20</td>\n",
       "      <td>16.500</td>\n",
       "      <td>15180.0</td>\n",
       "      <td>15209.5</td>\n",
       "      <td>215.955767</td>\n",
       "      <td>51.419646</td>\n",
       "      <td>189.322034</td>\n",
       "    </tr>\n",
       "    <tr>\n",
       "      <th>29</th>\n",
       "      <td>wellbore_chev_no_0_756</td>\n",
       "      <td>wellbore_chev_no_0</td>\n",
       "      <td>area_0</td>\n",
       "      <td>formation_71</td>\n",
       "      <td>bit_model_1</td>\n",
       "      <td>12.250</td>\n",
       "      <td>22680.0</td>\n",
       "      <td>22709.5</td>\n",
       "      <td>91.981970</td>\n",
       "      <td>28.641355</td>\n",
       "      <td>149.966832</td>\n",
       "    </tr>\n",
       "    <tr>\n",
       "      <th>5449</th>\n",
       "      <td>wellbore_chev_no_6_699</td>\n",
       "      <td>wellbore_chev_no_6</td>\n",
       "      <td>area_1</td>\n",
       "      <td>formation_213</td>\n",
       "      <td>bit_model_8</td>\n",
       "      <td>18.125</td>\n",
       "      <td>20970.0</td>\n",
       "      <td>20999.5</td>\n",
       "      <td>22.959545</td>\n",
       "      <td>11.562956</td>\n",
       "      <td>118.483611</td>\n",
       "    </tr>\n",
       "    <tr>\n",
       "      <th>2271</th>\n",
       "      <td>wellbore_chev_no_20_297</td>\n",
       "      <td>wellbore_chev_no_20</td>\n",
       "      <td>area_1</td>\n",
       "      <td>formation_221</td>\n",
       "      <td>bit_model_11</td>\n",
       "      <td>26.000</td>\n",
       "      <td>8910.0</td>\n",
       "      <td>8939.5</td>\n",
       "      <td>97.611110</td>\n",
       "      <td>51.202332</td>\n",
       "      <td>140.674835</td>\n",
       "    </tr>\n",
       "  </tbody>\n",
       "</table>\n",
       "</div>"
      ],
      "text/plain": [
       "                   segment_id  wellbore_chev_no_id area_id   formation_id  \\\n",
       "2596  wellbore_chev_no_20_622  wellbore_chev_no_20  area_1  formation_221   \n",
       "931   wellbore_chev_no_15_506  wellbore_chev_no_15  area_0  formation_231   \n",
       "29     wellbore_chev_no_0_756   wellbore_chev_no_0  area_0   formation_71   \n",
       "5449   wellbore_chev_no_6_699   wellbore_chev_no_6  area_1  formation_213   \n",
       "2271  wellbore_chev_no_20_297  wellbore_chev_no_20  area_1  formation_221   \n",
       "\n",
       "      bit_model_id  drillbit_size  min_depth  max_depth  rate_of_penetration  \\\n",
       "2596  bit_model_11         18.125    18660.0    18689.5           148.018593   \n",
       "931   bit_model_20         16.500    15180.0    15209.5           215.955767   \n",
       "29     bit_model_1         12.250    22680.0    22709.5            91.981970   \n",
       "5449   bit_model_8         18.125    20970.0    20999.5            22.959545   \n",
       "2271  bit_model_11         26.000     8910.0     8939.5            97.611110   \n",
       "\n",
       "      surface_weight_on_bit  surface_rpm  \n",
       "2596              43.791498   201.626499  \n",
       "931               51.419646   189.322034  \n",
       "29                28.641355   149.966832  \n",
       "5449              11.562956   118.483611  \n",
       "2271              51.202332   140.674835  "
      ]
     },
     "execution_count": 5,
     "metadata": {},
     "output_type": "execute_result"
    }
   ],
   "source": [
    "df.sample(5)"
   ]
  },
  {
   "cell_type": "code",
   "execution_count": 6,
   "id": "f0bd6fb5",
   "metadata": {},
   "outputs": [
    {
     "name": "stdout",
     "output_type": "stream",
     "text": [
      "<class 'pandas.core.frame.DataFrame'>\n",
      "RangeIndex: 6838 entries, 0 to 6837\n",
      "Data columns (total 11 columns):\n",
      " #   Column                 Non-Null Count  Dtype  \n",
      "---  ------                 --------------  -----  \n",
      " 0   segment_id             6838 non-null   object \n",
      " 1   wellbore_chev_no_id    6838 non-null   object \n",
      " 2   area_id                6838 non-null   object \n",
      " 3   formation_id           6838 non-null   object \n",
      " 4   bit_model_id           6838 non-null   object \n",
      " 5   drillbit_size          6838 non-null   float64\n",
      " 6   min_depth              6838 non-null   float64\n",
      " 7   max_depth              6838 non-null   float64\n",
      " 8   rate_of_penetration    6838 non-null   float64\n",
      " 9   surface_weight_on_bit  6838 non-null   float64\n",
      " 10  surface_rpm            6838 non-null   float64\n",
      "dtypes: float64(6), object(5)\n",
      "memory usage: 587.8+ KB\n"
     ]
    }
   ],
   "source": [
    "df.info()"
   ]
  },
  {
   "cell_type": "code",
   "execution_count": 8,
   "id": "a592a0f2",
   "metadata": {},
   "outputs": [
    {
     "data": {
      "text/html": [
       "<div>\n",
       "<style scoped>\n",
       "    .dataframe tbody tr th:only-of-type {\n",
       "        vertical-align: middle;\n",
       "    }\n",
       "\n",
       "    .dataframe tbody tr th {\n",
       "        vertical-align: top;\n",
       "    }\n",
       "\n",
       "    .dataframe thead th {\n",
       "        text-align: right;\n",
       "    }\n",
       "</style>\n",
       "<table border=\"1\" class=\"dataframe\">\n",
       "  <thead>\n",
       "    <tr style=\"text-align: right;\">\n",
       "      <th></th>\n",
       "      <th>drillbit_size</th>\n",
       "      <th>min_depth</th>\n",
       "      <th>max_depth</th>\n",
       "      <th>rate_of_penetration</th>\n",
       "      <th>surface_weight_on_bit</th>\n",
       "      <th>surface_rpm</th>\n",
       "    </tr>\n",
       "  </thead>\n",
       "  <tbody>\n",
       "    <tr>\n",
       "      <th>count</th>\n",
       "      <td>6838.000000</td>\n",
       "      <td>6838.000000</td>\n",
       "      <td>6838.000000</td>\n",
       "      <td>6838.000000</td>\n",
       "      <td>6838.000000</td>\n",
       "      <td>6838.000000</td>\n",
       "    </tr>\n",
       "    <tr>\n",
       "      <th>mean</th>\n",
       "      <td>15.726309</td>\n",
       "      <td>19609.123574</td>\n",
       "      <td>19638.444245</td>\n",
       "      <td>106.997573</td>\n",
       "      <td>35.791311</td>\n",
       "      <td>156.262449</td>\n",
       "    </tr>\n",
       "    <tr>\n",
       "      <th>std</th>\n",
       "      <td>3.522179</td>\n",
       "      <td>5739.149255</td>\n",
       "      <td>5739.051073</td>\n",
       "      <td>55.061943</td>\n",
       "      <td>13.363067</td>\n",
       "      <td>25.217998</td>\n",
       "    </tr>\n",
       "    <tr>\n",
       "      <th>min</th>\n",
       "      <td>8.500000</td>\n",
       "      <td>4988.500000</td>\n",
       "      <td>5009.500000</td>\n",
       "      <td>5.382589</td>\n",
       "      <td>5.203333</td>\n",
       "      <td>60.594999</td>\n",
       "    </tr>\n",
       "    <tr>\n",
       "      <th>25%</th>\n",
       "      <td>12.250000</td>\n",
       "      <td>14970.000000</td>\n",
       "      <td>14999.500000</td>\n",
       "      <td>62.480077</td>\n",
       "      <td>26.348941</td>\n",
       "      <td>140.665599</td>\n",
       "    </tr>\n",
       "    <tr>\n",
       "      <th>50%</th>\n",
       "      <td>16.500000</td>\n",
       "      <td>20040.000000</td>\n",
       "      <td>20069.500000</td>\n",
       "      <td>100.828372</td>\n",
       "      <td>36.983090</td>\n",
       "      <td>159.661078</td>\n",
       "    </tr>\n",
       "    <tr>\n",
       "      <th>75%</th>\n",
       "      <td>18.125000</td>\n",
       "      <td>24120.000000</td>\n",
       "      <td>24149.500000</td>\n",
       "      <td>136.087159</td>\n",
       "      <td>44.311884</td>\n",
       "      <td>175.560704</td>\n",
       "    </tr>\n",
       "    <tr>\n",
       "      <th>max</th>\n",
       "      <td>26.000000</td>\n",
       "      <td>31050.000000</td>\n",
       "      <td>31070.750000</td>\n",
       "      <td>512.754999</td>\n",
       "      <td>71.328106</td>\n",
       "      <td>211.066667</td>\n",
       "    </tr>\n",
       "  </tbody>\n",
       "</table>\n",
       "</div>"
      ],
      "text/plain": [
       "       drillbit_size     min_depth     max_depth  rate_of_penetration  \\\n",
       "count    6838.000000   6838.000000   6838.000000          6838.000000   \n",
       "mean       15.726309  19609.123574  19638.444245           106.997573   \n",
       "std         3.522179   5739.149255   5739.051073            55.061943   \n",
       "min         8.500000   4988.500000   5009.500000             5.382589   \n",
       "25%        12.250000  14970.000000  14999.500000            62.480077   \n",
       "50%        16.500000  20040.000000  20069.500000           100.828372   \n",
       "75%        18.125000  24120.000000  24149.500000           136.087159   \n",
       "max        26.000000  31050.000000  31070.750000           512.754999   \n",
       "\n",
       "       surface_weight_on_bit  surface_rpm  \n",
       "count            6838.000000  6838.000000  \n",
       "mean               35.791311   156.262449  \n",
       "std                13.363067    25.217998  \n",
       "min                 5.203333    60.594999  \n",
       "25%                26.348941   140.665599  \n",
       "50%                36.983090   159.661078  \n",
       "75%                44.311884   175.560704  \n",
       "max                71.328106   211.066667  "
      ]
     },
     "execution_count": 8,
     "metadata": {},
     "output_type": "execute_result"
    }
   ],
   "source": [
    "df.describe()"
   ]
  },
  {
   "cell_type": "code",
   "execution_count": 9,
   "id": "a65c3104",
   "metadata": {},
   "outputs": [
    {
     "data": {
      "text/plain": [
       "wellbore_chev_no_0_727     1\n",
       "wellbore_chev_no_5_460     1\n",
       "wellbore_chev_no_5_458     1\n",
       "wellbore_chev_no_5_457     1\n",
       "wellbore_chev_no_5_456     1\n",
       "                          ..\n",
       "wellbore_chev_no_20_302    1\n",
       "wellbore_chev_no_20_301    1\n",
       "wellbore_chev_no_20_300    1\n",
       "wellbore_chev_no_20_299    1\n",
       "wellbore_chev_no_9_831     1\n",
       "Name: segment_id, Length: 6838, dtype: int64"
      ]
     },
     "execution_count": 9,
     "metadata": {},
     "output_type": "execute_result"
    }
   ],
   "source": [
    "df['segment_id'].value_counts() #unique"
   ]
  },
  {
   "cell_type": "code",
   "execution_count": 10,
   "id": "3ac48f1e",
   "metadata": {},
   "outputs": [
    {
     "data": {
      "text/plain": [
       "wellbore_chev_no_20    701\n",
       "wellbore_chev_no_8     677\n",
       "wellbore_chev_no_6     661\n",
       "wellbore_chev_no_5     643\n",
       "wellbore_chev_no_2     628\n",
       "wellbore_chev_no_24    587\n",
       "wellbore_chev_no_3     549\n",
       "wellbore_chev_no_15    440\n",
       "wellbore_chev_no_9     435\n",
       "wellbore_chev_no_13    366\n",
       "wellbore_chev_no_18    195\n",
       "wellbore_chev_no_17    176\n",
       "wellbore_chev_no_12    149\n",
       "wellbore_chev_no_4     109\n",
       "wellbore_chev_no_0     101\n",
       "wellbore_chev_no_21     95\n",
       "wellbore_chev_no_11     90\n",
       "wellbore_chev_no_23     74\n",
       "wellbore_chev_no_1      61\n",
       "wellbore_chev_no_22     53\n",
       "wellbore_chev_no_10     48\n",
       "Name: wellbore_chev_no_id, dtype: int64"
      ]
     },
     "execution_count": 10,
     "metadata": {},
     "output_type": "execute_result"
    }
   ],
   "source": [
    "df['wellbore_chev_no_id'].value_counts()"
   ]
  },
  {
   "cell_type": "code",
   "execution_count": 11,
   "id": "d0f43f59",
   "metadata": {},
   "outputs": [
    {
     "data": {
      "text/plain": [
       "area_1    3966\n",
       "area_0    2872\n",
       "Name: area_id, dtype: int64"
      ]
     },
     "execution_count": 11,
     "metadata": {},
     "output_type": "execute_result"
    }
   ],
   "source": [
    "df['area_id'].value_counts()"
   ]
  },
  {
   "cell_type": "code",
   "execution_count": 13,
   "id": "83cd2ef6",
   "metadata": {},
   "outputs": [
    {
     "data": {
      "text/plain": [
       "formation_221    2041\n",
       "formation_231     994\n",
       "formation_2       195\n",
       "formation_224     146\n",
       "formation_225     141\n",
       "                 ... \n",
       "formation_257       1\n",
       "formation_258       1\n",
       "formation_57        1\n",
       "formation_205       1\n",
       "formation_49        1\n",
       "Name: formation_id, Length: 239, dtype: int64"
      ]
     },
     "execution_count": 13,
     "metadata": {},
     "output_type": "execute_result"
    }
   ],
   "source": [
    "df['formation_id'].value_counts()"
   ]
  },
  {
   "cell_type": "code",
   "execution_count": 18,
   "id": "330d4217",
   "metadata": {},
   "outputs": [],
   "source": [
    "df_y = df['rate_of_penetration']\n",
    "df_x = df.drop(['rate_of_penetration'], axis=1)"
   ]
  },
  {
   "cell_type": "code",
   "execution_count": 23,
   "id": "3807a639",
   "metadata": {},
   "outputs": [
    {
     "data": {
      "text/plain": [
       "<AxesSubplot:>"
      ]
     },
     "execution_count": 23,
     "metadata": {},
     "output_type": "execute_result"
    },
    {
     "data": {
      "image/png": "[encoded data removed]",
      "text/plain": [
       "<Figure size 432x288 with 2 Axes>"
      ]
     },
     "metadata": {
      "needs_background": "light"
     },
     "output_type": "display_data"
    }
   ],
   "source": [
    "sns.heatmap(df.corr(),square=True,annot=True,cmap='YlGnBu')"
   ]
  },
  {
   "cell_type": "code",
   "execution_count": 33,
   "id": "91847cd2",
   "metadata": {},
   "outputs": [
    {
     "data": {
      "text/plain": [
       "(array([  88.,  286.,  615.,  860.,  830.,  967., 1101.,  984.,  796.,\n",
       "         311.]),\n",
       " array([ 4988.5 ,  7594.65, 10200.8 , 12806.95, 15413.1 , 18019.25,\n",
       "        20625.4 , 23231.55, 25837.7 , 28443.85, 31050.  ]),\n",
       " <BarContainer object of 10 artists>)"
      ]
     },
     "execution_count": 33,
     "metadata": {},
     "output_type": "execute_result"
    },
    {
     "data": {
      "image/png": "[encoded data removed]",
      "text/plain": [
       "<Figure size 432x288 with 1 Axes>"
      ]
     },
     "metadata": {
      "needs_background": "light"
     },
     "output_type": "display_data"
    }
   ],
   "source": [
    "plt.hist(df['min_depth'])"
   ]
  },
  {
   "cell_type": "code",
   "execution_count": 34,
   "id": "544cb278",
   "metadata": {},
   "outputs": [
    {
     "data": {
      "text/plain": [
       "(array([ 259.,  549.,  752.,  883., 1288., 1521.,  933.,  298.,  166.,\n",
       "         189.]),\n",
       " array([ 5.20333346, 11.8158107 , 18.42828795, 25.0407652 , 31.65324245,\n",
       "        38.26571969, 44.87819694, 51.49067419, 58.10315144, 64.71562868,\n",
       "        71.32810593]),\n",
       " <BarContainer object of 10 artists>)"
      ]
     },
     "execution_count": 34,
     "metadata": {},
     "output_type": "execute_result"
    },
    {
     "data": {
      "image/png": "[encoded data removed]",
      "text/plain": [
       "<Figure size 432x288 with 1 Axes>"
      ]
     },
     "metadata": {
      "needs_background": "light"
     },
     "output_type": "display_data"
    }
   ],
   "source": [
    "plt.hist(df['surface_weight_on_bit'])"
   ]
  },
  {
   "cell_type": "code",
   "execution_count": 35,
   "id": "34c5cac6",
   "metadata": {},
   "outputs": [
    {
     "data": {
      "text/plain": [
       "(array([  25.,  123.,  189.,  316.,  500., 1686., 1543., 1599.,  657.,\n",
       "         200.]),\n",
       " array([ 60.59499931,  75.64216605,  90.68933279, 105.73649953,\n",
       "        120.78366627, 135.83083301, 150.87799974, 165.92516648,\n",
       "        180.97233322, 196.01949996, 211.0666667 ]),\n",
       " <BarContainer object of 10 artists>)"
      ]
     },
     "execution_count": 35,
     "metadata": {},
     "output_type": "execute_result"
    },
    {
     "data": {
      "image/png": "[encoded data removed]",
      "text/plain": [
       "<Figure size 432x288 with 1 Axes>"
      ]
     },
     "metadata": {
      "needs_background": "light"
     },
     "output_type": "display_data"
    }
   ],
   "source": [
    "plt.hist(df['surface_rpm'])"
   ]
  },
  {
   "cell_type": "code",
   "execution_count": 36,
   "id": "1e4fcd35",
   "metadata": {},
   "outputs": [
    {
     "data": {
      "text/plain": [
       "(array([1204., 2510., 2264.,  542.,  247.,   23.,   12.,   14.,   14.,\n",
       "           8.]),\n",
       " array([  5.38258901,  56.11982998, 106.85707095, 157.59431192,\n",
       "        208.33155289, 259.06879386, 309.80603483, 360.54327579,\n",
       "        411.28051676, 462.01775773, 512.7549987 ]),\n",
       " <BarContainer object of 10 artists>)"
      ]
     },
     "execution_count": 36,
     "metadata": {},
     "output_type": "execute_result"
    },
    {
     "data": {
      "image/png": "[encoded data removed]",
      "text/plain": [
       "<Figure size 432x288 with 1 Axes>"
      ]
     },
     "metadata": {
      "needs_background": "light"
     },
     "output_type": "display_data"
    }
   ],
   "source": [
    "plt.hist(df_y)"
   ]
  },
  {
   "cell_type": "code",
   "execution_count": 39,
   "id": "a8c7a9d3",
   "metadata": {},
   "outputs": [
    {
     "data": {
      "text/plain": [
       "Text(0.5, 1.0, 'Boxplot, ROP by area')"
      ]
     },
     "execution_count": 39,
     "metadata": {},
     "output_type": "execute_result"
    },
    {
     "data": {
      "image/png": "[encoded data removed]",
      "text/plain": [
       "<Figure size 432x720 with 1 Axes>"
      ]
     },
     "metadata": {
      "needs_background": "light"
     },
     "output_type": "display_data"
    }
   ],
   "source": [
    "fig, ax = plt.subplots(figsize=[6, 10])\n",
    "sns.boxplot(\n",
    "    data=df,\n",
    "    x='area_id',\n",
    "    y='rate_of_penetration',\n",
    ")\n",
    "ax.set_title('Boxplot, ROP by area')"
   ]
  },
  {
   "cell_type": "code",
   "execution_count": 44,
   "id": "854b1731",
   "metadata": {},
   "outputs": [
    {
     "data": {
      "text/plain": [
       "Text(0.5, 1.0, 'Boxplot, ROP by wellbore_chev_no_id')"
      ]
     },
     "execution_count": 44,
     "metadata": {},
     "output_type": "execute_result"
    },
    {
     "data": {
      "image/png": "[encoded data removed]",
      "text/plain": [
       "<Figure size 1152x432 with 1 Axes>"
      ]
     },
     "metadata": {
      "needs_background": "light"
     },
     "output_type": "display_data"
    }
   ],
   "source": [
    "fig, ax = plt.subplots(figsize=[16,6])\n",
    "sns.boxplot(\n",
    "    data=df,\n",
    "    y='wellbore_chev_no_id',\n",
    "    x='rate_of_penetration',\n",
    ")\n",
    "ax.set_title('Boxplot, ROP by wellbore_chev_no_id')"
   ]
  },
  {
   "cell_type": "code",
   "execution_count": null,
   "id": "c52fc3bc",
   "metadata": {},
   "outputs": [],
   "source": []
  }
 ],
 "metadata": {
  "kernelspec": {
   "display_name": "Python 3 (ipykernel)",
   "language": "python",
   "name": "python3"
  },
  "language_info": {
   "codemirror_mode": {
    "name": "ipython",
    "version": 3
   },
   "file_extension": ".py",
   "mimetype": "text/x-python",
   "name": "python",
   "nbconvert_exporter": "python",
   "pygments_lexer": "ipython3",
   "version": "3.9.7"
  }
 },
 "nbformat": 4,
 "nbformat_minor": 5
}
