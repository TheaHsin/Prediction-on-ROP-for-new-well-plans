{
 "cells": [
  {
   "cell_type": "code",
   "execution_count": 50,
   "id": "3feb04c5",
   "metadata": {},
   "outputs": [],
   "source": [
    "import pandas as pd\n",
    "import numpy as np\n",
    "from sklearn.preprocessing import StandardScaler\n",
    "import matplotlib.pyplot as plt"
   ]
  },
  {
   "cell_type": "code",
   "execution_count": 77,
   "id": "91921ef5",
   "metadata": {},
   "outputs": [],
   "source": [
    "df = pd.read_csv('training.csv')"
   ]
  },
  {
   "cell_type": "code",
   "execution_count": 93,
   "id": "d9748e42",
   "metadata": {},
   "outputs": [],
   "source": [
    "y = df['rate_of_penetration']\n",
    "X = df.drop(['segment_id','rate_of_penetration','max_depth'],axis=1)"
   ]
  },
  {
   "cell_type": "code",
   "execution_count": 86,
   "id": "ac606f47",
   "metadata": {},
   "outputs": [
    {
     "data": {
      "text/html": [
       "<div>\n",
       "<style scoped>\n",
       "    .dataframe tbody tr th:only-of-type {\n",
       "        vertical-align: middle;\n",
       "    }\n",
       "\n",
       "    .dataframe tbody tr th {\n",
       "        vertical-align: top;\n",
       "    }\n",
       "\n",
       "    .dataframe thead th {\n",
       "        text-align: right;\n",
       "    }\n",
       "</style>\n",
       "<table border=\"1\" class=\"dataframe\">\n",
       "  <thead>\n",
       "    <tr style=\"text-align: right;\">\n",
       "      <th></th>\n",
       "      <th>wellbore_chev_no_id</th>\n",
       "      <th>area_id</th>\n",
       "      <th>formation_id</th>\n",
       "      <th>bit_model_id</th>\n",
       "      <th>drillbit_size</th>\n",
       "      <th>min_depth</th>\n",
       "      <th>surface_weight_on_bit</th>\n",
       "      <th>surface_rpm</th>\n",
       "    </tr>\n",
       "  </thead>\n",
       "  <tbody>\n",
       "    <tr>\n",
       "      <th>0</th>\n",
       "      <td>wellbore_chev_no_0</td>\n",
       "      <td>area_0</td>\n",
       "      <td>formation_62</td>\n",
       "      <td>bit_model_1</td>\n",
       "      <td>12.25</td>\n",
       "      <td>21834.5</td>\n",
       "      <td>43.533280</td>\n",
       "      <td>150.369091</td>\n",
       "    </tr>\n",
       "    <tr>\n",
       "      <th>1</th>\n",
       "      <td>wellbore_chev_no_0</td>\n",
       "      <td>area_0</td>\n",
       "      <td>formation_61</td>\n",
       "      <td>bit_model_1</td>\n",
       "      <td>12.25</td>\n",
       "      <td>21840.0</td>\n",
       "      <td>42.382033</td>\n",
       "      <td>150.369001</td>\n",
       "    </tr>\n",
       "    <tr>\n",
       "      <th>2</th>\n",
       "      <td>wellbore_chev_no_0</td>\n",
       "      <td>area_0</td>\n",
       "      <td>formation_59</td>\n",
       "      <td>bit_model_1</td>\n",
       "      <td>12.25</td>\n",
       "      <td>21870.0</td>\n",
       "      <td>48.675129</td>\n",
       "      <td>150.429335</td>\n",
       "    </tr>\n",
       "    <tr>\n",
       "      <th>3</th>\n",
       "      <td>wellbore_chev_no_0</td>\n",
       "      <td>area_0</td>\n",
       "      <td>formation_65</td>\n",
       "      <td>bit_model_1</td>\n",
       "      <td>12.25</td>\n",
       "      <td>21900.0</td>\n",
       "      <td>30.041290</td>\n",
       "      <td>150.080000</td>\n",
       "    </tr>\n",
       "    <tr>\n",
       "      <th>4</th>\n",
       "      <td>wellbore_chev_no_0</td>\n",
       "      <td>area_0</td>\n",
       "      <td>formation_65</td>\n",
       "      <td>bit_model_1</td>\n",
       "      <td>12.25</td>\n",
       "      <td>21930.0</td>\n",
       "      <td>31.406319</td>\n",
       "      <td>150.032167</td>\n",
       "    </tr>\n",
       "  </tbody>\n",
       "</table>\n",
       "</div>"
      ],
      "text/plain": [
       "  wellbore_chev_no_id area_id  formation_id bit_model_id  drillbit_size  \\\n",
       "0  wellbore_chev_no_0  area_0  formation_62  bit_model_1          12.25   \n",
       "1  wellbore_chev_no_0  area_0  formation_61  bit_model_1          12.25   \n",
       "2  wellbore_chev_no_0  area_0  formation_59  bit_model_1          12.25   \n",
       "3  wellbore_chev_no_0  area_0  formation_65  bit_model_1          12.25   \n",
       "4  wellbore_chev_no_0  area_0  formation_65  bit_model_1          12.25   \n",
       "\n",
       "   min_depth  surface_weight_on_bit  surface_rpm  \n",
       "0    21834.5              43.533280   150.369091  \n",
       "1    21840.0              42.382033   150.369001  \n",
       "2    21870.0              48.675129   150.429335  \n",
       "3    21900.0              30.041290   150.080000  \n",
       "4    21930.0              31.406319   150.032167  "
      ]
     },
     "execution_count": 86,
     "metadata": {},
     "output_type": "execute_result"
    }
   ],
   "source": [
    "X.head()"
   ]
  },
  {
   "cell_type": "code",
   "execution_count": 87,
   "id": "ed0f5bc4",
   "metadata": {},
   "outputs": [
    {
     "data": {
      "text/plain": [
       "(6784, 8)"
      ]
     },
     "execution_count": 87,
     "metadata": {},
     "output_type": "execute_result"
    }
   ],
   "source": [
    "X.shape"
   ]
  },
  {
   "cell_type": "code",
   "execution_count": null,
   "id": "097350ee",
   "metadata": {},
   "outputs": [],
   "source": [
    "X.index = range(X.shape[0])"
   ]
  },
  {
   "cell_type": "code",
   "execution_count": 88,
   "id": "6c1fe3bf",
   "metadata": {},
   "outputs": [],
   "source": [
    "X_std = pd.DataFrame(StandardScaler().fit_transform(X.iloc[:,5:]))\n",
    "X = pd.concat([X.iloc[:,:5], X_std], axis=1)\n",
    "X = pd.get_dummies(X)"
   ]
  },
  {
   "cell_type": "code",
   "execution_count": 102,
   "id": "0557d1b9",
   "metadata": {},
   "outputs": [
    {
     "data": {
      "text/html": [
       "<div>\n",
       "<style scoped>\n",
       "    .dataframe tbody tr th:only-of-type {\n",
       "        vertical-align: middle;\n",
       "    }\n",
       "\n",
       "    .dataframe tbody tr th {\n",
       "        vertical-align: top;\n",
       "    }\n",
       "\n",
       "    .dataframe thead th {\n",
       "        text-align: right;\n",
       "    }\n",
       "</style>\n",
       "<table border=\"1\" class=\"dataframe\">\n",
       "  <thead>\n",
       "    <tr style=\"text-align: right;\">\n",
       "      <th></th>\n",
       "      <th>drillbit_size</th>\n",
       "      <th>0</th>\n",
       "      <th>1</th>\n",
       "      <th>2</th>\n",
       "      <th>wellbore_chev_no_id_wellbore_chev_no_0</th>\n",
       "      <th>wellbore_chev_no_id_wellbore_chev_no_1</th>\n",
       "      <th>wellbore_chev_no_id_wellbore_chev_no_10</th>\n",
       "      <th>wellbore_chev_no_id_wellbore_chev_no_11</th>\n",
       "      <th>wellbore_chev_no_id_wellbore_chev_no_12</th>\n",
       "      <th>wellbore_chev_no_id_wellbore_chev_no_13</th>\n",
       "      <th>...</th>\n",
       "      <th>bit_model_id_bit_model_34</th>\n",
       "      <th>bit_model_id_bit_model_36</th>\n",
       "      <th>bit_model_id_bit_model_37</th>\n",
       "      <th>bit_model_id_bit_model_39</th>\n",
       "      <th>bit_model_id_bit_model_4</th>\n",
       "      <th>bit_model_id_bit_model_40</th>\n",
       "      <th>bit_model_id_bit_model_42</th>\n",
       "      <th>bit_model_id_bit_model_43</th>\n",
       "      <th>bit_model_id_bit_model_6</th>\n",
       "      <th>bit_model_id_bit_model_8</th>\n",
       "    </tr>\n",
       "  </thead>\n",
       "  <tbody>\n",
       "    <tr>\n",
       "      <th>0</th>\n",
       "      <td>12.25</td>\n",
       "      <td>0.382685</td>\n",
       "      <td>0.596266</td>\n",
       "      <td>-0.230151</td>\n",
       "      <td>1</td>\n",
       "      <td>0</td>\n",
       "      <td>0</td>\n",
       "      <td>0</td>\n",
       "      <td>0</td>\n",
       "      <td>0</td>\n",
       "      <td>...</td>\n",
       "      <td>0</td>\n",
       "      <td>0</td>\n",
       "      <td>0</td>\n",
       "      <td>0</td>\n",
       "      <td>0</td>\n",
       "      <td>0</td>\n",
       "      <td>0</td>\n",
       "      <td>0</td>\n",
       "      <td>0</td>\n",
       "      <td>0</td>\n",
       "    </tr>\n",
       "    <tr>\n",
       "      <th>1</th>\n",
       "      <td>12.25</td>\n",
       "      <td>0.383641</td>\n",
       "      <td>0.509338</td>\n",
       "      <td>-0.230155</td>\n",
       "      <td>1</td>\n",
       "      <td>0</td>\n",
       "      <td>0</td>\n",
       "      <td>0</td>\n",
       "      <td>0</td>\n",
       "      <td>0</td>\n",
       "      <td>...</td>\n",
       "      <td>0</td>\n",
       "      <td>0</td>\n",
       "      <td>0</td>\n",
       "      <td>0</td>\n",
       "      <td>0</td>\n",
       "      <td>0</td>\n",
       "      <td>0</td>\n",
       "      <td>0</td>\n",
       "      <td>0</td>\n",
       "      <td>0</td>\n",
       "    </tr>\n",
       "    <tr>\n",
       "      <th>2</th>\n",
       "      <td>12.25</td>\n",
       "      <td>0.388856</td>\n",
       "      <td>0.984517</td>\n",
       "      <td>-0.227755</td>\n",
       "      <td>1</td>\n",
       "      <td>0</td>\n",
       "      <td>0</td>\n",
       "      <td>0</td>\n",
       "      <td>0</td>\n",
       "      <td>0</td>\n",
       "      <td>...</td>\n",
       "      <td>0</td>\n",
       "      <td>0</td>\n",
       "      <td>0</td>\n",
       "      <td>0</td>\n",
       "      <td>0</td>\n",
       "      <td>0</td>\n",
       "      <td>0</td>\n",
       "      <td>0</td>\n",
       "      <td>0</td>\n",
       "      <td>0</td>\n",
       "    </tr>\n",
       "    <tr>\n",
       "      <th>3</th>\n",
       "      <td>12.25</td>\n",
       "      <td>0.394071</td>\n",
       "      <td>-0.422488</td>\n",
       "      <td>-0.241652</td>\n",
       "      <td>1</td>\n",
       "      <td>0</td>\n",
       "      <td>0</td>\n",
       "      <td>0</td>\n",
       "      <td>0</td>\n",
       "      <td>0</td>\n",
       "      <td>...</td>\n",
       "      <td>0</td>\n",
       "      <td>0</td>\n",
       "      <td>0</td>\n",
       "      <td>0</td>\n",
       "      <td>0</td>\n",
       "      <td>0</td>\n",
       "      <td>0</td>\n",
       "      <td>0</td>\n",
       "      <td>0</td>\n",
       "      <td>0</td>\n",
       "    </tr>\n",
       "    <tr>\n",
       "      <th>4</th>\n",
       "      <td>12.25</td>\n",
       "      <td>0.399287</td>\n",
       "      <td>-0.319417</td>\n",
       "      <td>-0.243555</td>\n",
       "      <td>1</td>\n",
       "      <td>0</td>\n",
       "      <td>0</td>\n",
       "      <td>0</td>\n",
       "      <td>0</td>\n",
       "      <td>0</td>\n",
       "      <td>...</td>\n",
       "      <td>0</td>\n",
       "      <td>0</td>\n",
       "      <td>0</td>\n",
       "      <td>0</td>\n",
       "      <td>0</td>\n",
       "      <td>0</td>\n",
       "      <td>0</td>\n",
       "      <td>0</td>\n",
       "      <td>0</td>\n",
       "      <td>0</td>\n",
       "    </tr>\n",
       "    <tr>\n",
       "      <th>...</th>\n",
       "      <td>...</td>\n",
       "      <td>...</td>\n",
       "      <td>...</td>\n",
       "      <td>...</td>\n",
       "      <td>...</td>\n",
       "      <td>...</td>\n",
       "      <td>...</td>\n",
       "      <td>...</td>\n",
       "      <td>...</td>\n",
       "      <td>...</td>\n",
       "      <td>...</td>\n",
       "      <td>...</td>\n",
       "      <td>...</td>\n",
       "      <td>...</td>\n",
       "      <td>...</td>\n",
       "      <td>...</td>\n",
       "      <td>...</td>\n",
       "      <td>...</td>\n",
       "      <td>...</td>\n",
       "      <td>...</td>\n",
       "      <td>...</td>\n",
       "    </tr>\n",
       "    <tr>\n",
       "      <th>6779</th>\n",
       "      <td>12.25</td>\n",
       "      <td>0.899950</td>\n",
       "      <td>-1.122536</td>\n",
       "      <td>0.046745</td>\n",
       "      <td>0</td>\n",
       "      <td>0</td>\n",
       "      <td>0</td>\n",
       "      <td>0</td>\n",
       "      <td>0</td>\n",
       "      <td>0</td>\n",
       "      <td>...</td>\n",
       "      <td>0</td>\n",
       "      <td>0</td>\n",
       "      <td>0</td>\n",
       "      <td>0</td>\n",
       "      <td>1</td>\n",
       "      <td>0</td>\n",
       "      <td>0</td>\n",
       "      <td>0</td>\n",
       "      <td>0</td>\n",
       "      <td>0</td>\n",
       "    </tr>\n",
       "    <tr>\n",
       "      <th>6780</th>\n",
       "      <td>12.25</td>\n",
       "      <td>0.905165</td>\n",
       "      <td>-1.510311</td>\n",
       "      <td>-0.434669</td>\n",
       "      <td>0</td>\n",
       "      <td>0</td>\n",
       "      <td>0</td>\n",
       "      <td>0</td>\n",
       "      <td>0</td>\n",
       "      <td>0</td>\n",
       "      <td>...</td>\n",
       "      <td>0</td>\n",
       "      <td>0</td>\n",
       "      <td>0</td>\n",
       "      <td>0</td>\n",
       "      <td>1</td>\n",
       "      <td>0</td>\n",
       "      <td>0</td>\n",
       "      <td>0</td>\n",
       "      <td>0</td>\n",
       "      <td>0</td>\n",
       "    </tr>\n",
       "    <tr>\n",
       "      <th>6781</th>\n",
       "      <td>12.25</td>\n",
       "      <td>0.910380</td>\n",
       "      <td>-1.531288</td>\n",
       "      <td>-0.263724</td>\n",
       "      <td>0</td>\n",
       "      <td>0</td>\n",
       "      <td>0</td>\n",
       "      <td>0</td>\n",
       "      <td>0</td>\n",
       "      <td>0</td>\n",
       "      <td>...</td>\n",
       "      <td>0</td>\n",
       "      <td>0</td>\n",
       "      <td>0</td>\n",
       "      <td>0</td>\n",
       "      <td>1</td>\n",
       "      <td>0</td>\n",
       "      <td>0</td>\n",
       "      <td>0</td>\n",
       "      <td>0</td>\n",
       "      <td>0</td>\n",
       "    </tr>\n",
       "    <tr>\n",
       "      <th>6782</th>\n",
       "      <td>12.25</td>\n",
       "      <td>0.915596</td>\n",
       "      <td>-1.409455</td>\n",
       "      <td>-0.264862</td>\n",
       "      <td>0</td>\n",
       "      <td>0</td>\n",
       "      <td>0</td>\n",
       "      <td>0</td>\n",
       "      <td>0</td>\n",
       "      <td>0</td>\n",
       "      <td>...</td>\n",
       "      <td>0</td>\n",
       "      <td>0</td>\n",
       "      <td>0</td>\n",
       "      <td>0</td>\n",
       "      <td>1</td>\n",
       "      <td>0</td>\n",
       "      <td>0</td>\n",
       "      <td>0</td>\n",
       "      <td>0</td>\n",
       "      <td>0</td>\n",
       "    </tr>\n",
       "    <tr>\n",
       "      <th>6783</th>\n",
       "      <td>12.25</td>\n",
       "      <td>0.920811</td>\n",
       "      <td>-1.444844</td>\n",
       "      <td>-0.235128</td>\n",
       "      <td>0</td>\n",
       "      <td>0</td>\n",
       "      <td>0</td>\n",
       "      <td>0</td>\n",
       "      <td>0</td>\n",
       "      <td>0</td>\n",
       "      <td>...</td>\n",
       "      <td>0</td>\n",
       "      <td>0</td>\n",
       "      <td>0</td>\n",
       "      <td>0</td>\n",
       "      <td>1</td>\n",
       "      <td>0</td>\n",
       "      <td>0</td>\n",
       "      <td>0</td>\n",
       "      <td>0</td>\n",
       "      <td>0</td>\n",
       "    </tr>\n",
       "  </tbody>\n",
       "</table>\n",
       "<p>6784 rows × 304 columns</p>\n",
       "</div>"
      ],
      "text/plain": [
       "      drillbit_size         0         1         2  \\\n",
       "0             12.25  0.382685  0.596266 -0.230151   \n",
       "1             12.25  0.383641  0.509338 -0.230155   \n",
       "2             12.25  0.388856  0.984517 -0.227755   \n",
       "3             12.25  0.394071 -0.422488 -0.241652   \n",
       "4             12.25  0.399287 -0.319417 -0.243555   \n",
       "...             ...       ...       ...       ...   \n",
       "6779          12.25  0.899950 -1.122536  0.046745   \n",
       "6780          12.25  0.905165 -1.510311 -0.434669   \n",
       "6781          12.25  0.910380 -1.531288 -0.263724   \n",
       "6782          12.25  0.915596 -1.409455 -0.264862   \n",
       "6783          12.25  0.920811 -1.444844 -0.235128   \n",
       "\n",
       "      wellbore_chev_no_id_wellbore_chev_no_0  \\\n",
       "0                                          1   \n",
       "1                                          1   \n",
       "2                                          1   \n",
       "3                                          1   \n",
       "4                                          1   \n",
       "...                                      ...   \n",
       "6779                                       0   \n",
       "6780                                       0   \n",
       "6781                                       0   \n",
       "6782                                       0   \n",
       "6783                                       0   \n",
       "\n",
       "      wellbore_chev_no_id_wellbore_chev_no_1  \\\n",
       "0                                          0   \n",
       "1                                          0   \n",
       "2                                          0   \n",
       "3                                          0   \n",
       "4                                          0   \n",
       "...                                      ...   \n",
       "6779                                       0   \n",
       "6780                                       0   \n",
       "6781                                       0   \n",
       "6782                                       0   \n",
       "6783                                       0   \n",
       "\n",
       "      wellbore_chev_no_id_wellbore_chev_no_10  \\\n",
       "0                                           0   \n",
       "1                                           0   \n",
       "2                                           0   \n",
       "3                                           0   \n",
       "4                                           0   \n",
       "...                                       ...   \n",
       "6779                                        0   \n",
       "6780                                        0   \n",
       "6781                                        0   \n",
       "6782                                        0   \n",
       "6783                                        0   \n",
       "\n",
       "      wellbore_chev_no_id_wellbore_chev_no_11  \\\n",
       "0                                           0   \n",
       "1                                           0   \n",
       "2                                           0   \n",
       "3                                           0   \n",
       "4                                           0   \n",
       "...                                       ...   \n",
       "6779                                        0   \n",
       "6780                                        0   \n",
       "6781                                        0   \n",
       "6782                                        0   \n",
       "6783                                        0   \n",
       "\n",
       "      wellbore_chev_no_id_wellbore_chev_no_12  \\\n",
       "0                                           0   \n",
       "1                                           0   \n",
       "2                                           0   \n",
       "3                                           0   \n",
       "4                                           0   \n",
       "...                                       ...   \n",
       "6779                                        0   \n",
       "6780                                        0   \n",
       "6781                                        0   \n",
       "6782                                        0   \n",
       "6783                                        0   \n",
       "\n",
       "      wellbore_chev_no_id_wellbore_chev_no_13  ...  bit_model_id_bit_model_34  \\\n",
       "0                                           0  ...                          0   \n",
       "1                                           0  ...                          0   \n",
       "2                                           0  ...                          0   \n",
       "3                                           0  ...                          0   \n",
       "4                                           0  ...                          0   \n",
       "...                                       ...  ...                        ...   \n",
       "6779                                        0  ...                          0   \n",
       "6780                                        0  ...                          0   \n",
       "6781                                        0  ...                          0   \n",
       "6782                                        0  ...                          0   \n",
       "6783                                        0  ...                          0   \n",
       "\n",
       "      bit_model_id_bit_model_36  bit_model_id_bit_model_37  \\\n",
       "0                             0                          0   \n",
       "1                             0                          0   \n",
       "2                             0                          0   \n",
       "3                             0                          0   \n",
       "4                             0                          0   \n",
       "...                         ...                        ...   \n",
       "6779                          0                          0   \n",
       "6780                          0                          0   \n",
       "6781                          0                          0   \n",
       "6782                          0                          0   \n",
       "6783                          0                          0   \n",
       "\n",
       "      bit_model_id_bit_model_39  bit_model_id_bit_model_4  \\\n",
       "0                             0                         0   \n",
       "1                             0                         0   \n",
       "2                             0                         0   \n",
       "3                             0                         0   \n",
       "4                             0                         0   \n",
       "...                         ...                       ...   \n",
       "6779                          0                         1   \n",
       "6780                          0                         1   \n",
       "6781                          0                         1   \n",
       "6782                          0                         1   \n",
       "6783                          0                         1   \n",
       "\n",
       "      bit_model_id_bit_model_40  bit_model_id_bit_model_42  \\\n",
       "0                             0                          0   \n",
       "1                             0                          0   \n",
       "2                             0                          0   \n",
       "3                             0                          0   \n",
       "4                             0                          0   \n",
       "...                         ...                        ...   \n",
       "6779                          0                          0   \n",
       "6780                          0                          0   \n",
       "6781                          0                          0   \n",
       "6782                          0                          0   \n",
       "6783                          0                          0   \n",
       "\n",
       "      bit_model_id_bit_model_43  bit_model_id_bit_model_6  \\\n",
       "0                             0                         0   \n",
       "1                             0                         0   \n",
       "2                             0                         0   \n",
       "3                             0                         0   \n",
       "4                             0                         0   \n",
       "...                         ...                       ...   \n",
       "6779                          0                         0   \n",
       "6780                          0                         0   \n",
       "6781                          0                         0   \n",
       "6782                          0                         0   \n",
       "6783                          0                         0   \n",
       "\n",
       "      bit_model_id_bit_model_8  \n",
       "0                            0  \n",
       "1                            0  \n",
       "2                            0  \n",
       "3                            0  \n",
       "4                            0  \n",
       "...                        ...  \n",
       "6779                         0  \n",
       "6780                         0  \n",
       "6781                         0  \n",
       "6782                         0  \n",
       "6783                         0  \n",
       "\n",
       "[6784 rows x 304 columns]"
      ]
     },
     "execution_count": 102,
     "metadata": {},
     "output_type": "execute_result"
    }
   ],
   "source": [
    "X"
   ]
  },
  {
   "cell_type": "markdown",
   "id": "a79f3b77",
   "metadata": {},
   "source": [
    "## Reduce Dimentions"
   ]
  },
  {
   "cell_type": "code",
   "execution_count": 103,
   "id": "70229a44",
   "metadata": {},
   "outputs": [
    {
     "data": {
      "image/png": "[encoded data removed]",
      "text/plain": [
       "<Figure size 432x288 with 1 Axes>"
      ]
     },
     "metadata": {
      "needs_background": "light"
     },
     "output_type": "display_data"
    }
   ],
   "source": [
    "from sklearn.decomposition import PCA\n",
    "pca_line = PCA().fit(X)\n",
    "plt.plot(np.cumsum(pca_line.explained_variance_ratio_))\n",
    "plt.xlabel(\"number of components after dimension reduction\")\n",
    "plt.ylabel(\"cumulative explained variance ratio\")\n",
    "plt.show()"
   ]
  },
  {
   "cell_type": "code",
   "execution_count": 104,
   "id": "b3914868",
   "metadata": {},
   "outputs": [
    {
     "data": {
      "text/plain": [
       "array([0.72588154, 0.06531045, 0.04495908, 0.03031238, 0.01455366,\n",
       "       0.00972399, 0.00901362, 0.00710937, 0.00691372, 0.00575903,\n",
       "       0.0054857 , 0.00501144, 0.00413266, 0.00394255, 0.00324501,\n",
       "       0.00275592, 0.00237096, 0.00229444, 0.00222373, 0.00185523,\n",
       "       0.00176346, 0.0017208 , 0.00158056, 0.00155885, 0.00143635,\n",
       "       0.00125989, 0.00119267, 0.00110108, 0.00102493, 0.00099979,\n",
       "       0.00091459, 0.00085549, 0.00084905, 0.00079927, 0.00077813])"
      ]
     },
     "execution_count": 104,
     "metadata": {},
     "output_type": "execute_result"
    }
   ],
   "source": [
    "pca_f = PCA(n_components=0.97,svd_solver=\"full\")\n",
    "pca_f = pca_f.fit(X)\n",
    "X_f = pca_f.transform(X)\n",
    "\n",
    "pca_f.explained_variance_ratio_"
   ]
  },
  {
   "cell_type": "code",
   "execution_count": 105,
   "id": "2cb6af72",
   "metadata": {},
   "outputs": [],
   "source": [
    "X_dr = pd.DataFrame(PCA(35).fit_transform(X))"
   ]
  },
  {
   "cell_type": "code",
   "execution_count": 106,
   "id": "bc7b9e0a",
   "metadata": {},
   "outputs": [],
   "source": [
    "from sklearn.linear_model import LinearRegression as LR\n",
    "from sklearn.model_selection import train_test_split"
   ]
  },
  {
   "cell_type": "code",
   "execution_count": 107,
   "id": "5e649ecc",
   "metadata": {},
   "outputs": [],
   "source": [
    "xtrain, xtest, ytrain, ytest = train_test_split(X_dr, y, test_size=0.25, random_state=17)"
   ]
  },
  {
   "cell_type": "code",
   "execution_count": 108,
   "id": "1a0ec14d",
   "metadata": {},
   "outputs": [],
   "source": [
    "xtrain.index = range(xtrain.shape[0])"
   ]
  },
  {
   "cell_type": "code",
   "execution_count": 109,
   "id": "b372230a",
   "metadata": {},
   "outputs": [],
   "source": [
    "xtest.index = range(xtest.shape[0])"
   ]
  },
  {
   "cell_type": "code",
   "execution_count": 110,
   "id": "efd2f9b9",
   "metadata": {},
   "outputs": [],
   "source": [
    "reg = LR().fit(xtrain, ytrain)\n",
    "yhat = reg.predict(xtest)"
   ]
  },
  {
   "cell_type": "code",
   "execution_count": 111,
   "id": "3dc81dd1",
   "metadata": {},
   "outputs": [
    {
     "data": {
      "text/plain": [
       "231.74213338012532"
      ]
     },
     "execution_count": 111,
     "metadata": {},
     "output_type": "execute_result"
    }
   ],
   "source": [
    "yhat.max()"
   ]
  },
  {
   "cell_type": "code",
   "execution_count": 112,
   "id": "a7270c42",
   "metadata": {},
   "outputs": [
    {
     "data": {
      "text/plain": [
       "25.398610209919628"
      ]
     },
     "execution_count": 112,
     "metadata": {},
     "output_type": "execute_result"
    }
   ],
   "source": [
    "from sklearn.metrics import mean_squared_error as MSE\n",
    "MSE(yhat, ytest)**0.5"
   ]
  },
  {
   "cell_type": "code",
   "execution_count": 113,
   "id": "0e3d6eb4",
   "metadata": {},
   "outputs": [
    {
     "data": {
      "text/plain": [
       "9.730544964"
      ]
     },
     "execution_count": 113,
     "metadata": {},
     "output_type": "execute_result"
    }
   ],
   "source": [
    "ytest.min()"
   ]
  },
  {
   "cell_type": "code",
   "execution_count": 114,
   "id": "8141621f",
   "metadata": {},
   "outputs": [
    {
     "data": {
      "text/plain": [
       "104.72820498426165"
      ]
     },
     "execution_count": 114,
     "metadata": {},
     "output_type": "execute_result"
    }
   ],
   "source": [
    "y.mean()"
   ]
  },
  {
   "cell_type": "code",
   "execution_count": 115,
   "id": "9c8cb410",
   "metadata": {},
   "outputs": [
    {
     "data": {
      "text/plain": [
       "2373.3575059794393"
      ]
     },
     "execution_count": 115,
     "metadata": {},
     "output_type": "execute_result"
    }
   ],
   "source": [
    "y.var()"
   ]
  },
  {
   "cell_type": "code",
   "execution_count": 116,
   "id": "7555fb09",
   "metadata": {},
   "outputs": [
    {
     "data": {
      "text/plain": [
       "17.031057591439055"
      ]
     },
     "execution_count": 116,
     "metadata": {},
     "output_type": "execute_result"
    }
   ],
   "source": [
    "from sklearn.neural_network import MLPRegressor\n",
    "from sklearn.datasets import make_regression\n",
    "\n",
    "regr = MLPRegressor(random_state=17, max_iter=10000).fit(xtrain, ytrain)\n",
    "yhatnn = regr.predict(xtest)\n",
    "MSE(yhatnn, ytest)**0.5"
   ]
  },
  {
   "cell_type": "code",
   "execution_count": null,
   "id": "3b1c9fff",
   "metadata": {},
   "outputs": [],
   "source": []
  }
 ],
 "metadata": {
  "kernelspec": {
   "display_name": "Python 3 (ipykernel)",
   "language": "python",
   "name": "python3"
  },
  "language_info": {
   "codemirror_mode": {
    "name": "ipython",
    "version": 3
   },
   "file_extension": ".py",
   "mimetype": "text/x-python",
   "name": "python",
   "nbconvert_exporter": "python",
   "pygments_lexer": "ipython3",
   "version": "3.9.7"
  }
 },
 "nbformat": 4,
 "nbformat_minor": 5
}
