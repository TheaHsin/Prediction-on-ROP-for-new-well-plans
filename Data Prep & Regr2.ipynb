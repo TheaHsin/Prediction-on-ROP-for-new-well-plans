{
 "cells": [
  {
   "cell_type": "code",
   "execution_count": 1,
   "id": "3feb04c5",
   "metadata": {},
   "outputs": [],
   "source": [
    "import pandas as pd\n",
    "import numpy as np\n",
    "from sklearn.preprocessing import StandardScaler\n",
    "from sklearn.preprocessing import OrdinalEncoder\n",
    "import matplotlib.pyplot as plt"
   ]
  },
  {
   "cell_type": "code",
   "execution_count": 100,
   "id": "91921ef5",
   "metadata": {},
   "outputs": [],
   "source": [
    "df = pd.read_csv('training.csv')"
   ]
  },
  {
   "cell_type": "code",
   "execution_count": 101,
   "id": "d9748e42",
   "metadata": {},
   "outputs": [],
   "source": [
    "# Transfer variable type we need, take drillbit_size as an ordinal categorical variable\n",
    "df['drillbit_size'] = df['drillbit_size'].astype(object)\n",
    "y = df['rate_of_penetration']\n",
    "X = df[['drillbit_size','min_depth','surface_weight_on_bit','surface_rpm']]"
   ]
  },
  {
   "cell_type": "code",
   "execution_count": 102,
   "id": "ac606f47",
   "metadata": {},
   "outputs": [
    {
     "data": {
      "text/html": [
       "<div>\n",
       "<style scoped>\n",
       "    .dataframe tbody tr th:only-of-type {\n",
       "        vertical-align: middle;\n",
       "    }\n",
       "\n",
       "    .dataframe tbody tr th {\n",
       "        vertical-align: top;\n",
       "    }\n",
       "\n",
       "    .dataframe thead th {\n",
       "        text-align: right;\n",
       "    }\n",
       "</style>\n",
       "<table border=\"1\" class=\"dataframe\">\n",
       "  <thead>\n",
       "    <tr style=\"text-align: right;\">\n",
       "      <th></th>\n",
       "      <th>drillbit_size</th>\n",
       "      <th>min_depth</th>\n",
       "      <th>surface_weight_on_bit</th>\n",
       "      <th>surface_rpm</th>\n",
       "    </tr>\n",
       "  </thead>\n",
       "  <tbody>\n",
       "    <tr>\n",
       "      <th>0</th>\n",
       "      <td>12.25</td>\n",
       "      <td>21834.5</td>\n",
       "      <td>43.533280</td>\n",
       "      <td>150.369091</td>\n",
       "    </tr>\n",
       "    <tr>\n",
       "      <th>1</th>\n",
       "      <td>12.25</td>\n",
       "      <td>21840.0</td>\n",
       "      <td>42.382033</td>\n",
       "      <td>150.369001</td>\n",
       "    </tr>\n",
       "    <tr>\n",
       "      <th>2</th>\n",
       "      <td>12.25</td>\n",
       "      <td>21870.0</td>\n",
       "      <td>48.675129</td>\n",
       "      <td>150.429335</td>\n",
       "    </tr>\n",
       "    <tr>\n",
       "      <th>3</th>\n",
       "      <td>12.25</td>\n",
       "      <td>21900.0</td>\n",
       "      <td>30.041290</td>\n",
       "      <td>150.080000</td>\n",
       "    </tr>\n",
       "    <tr>\n",
       "      <th>4</th>\n",
       "      <td>12.25</td>\n",
       "      <td>21930.0</td>\n",
       "      <td>31.406319</td>\n",
       "      <td>150.032167</td>\n",
       "    </tr>\n",
       "  </tbody>\n",
       "</table>\n",
       "</div>"
      ],
      "text/plain": [
       "  drillbit_size  min_depth  surface_weight_on_bit  surface_rpm\n",
       "0         12.25    21834.5              43.533280   150.369091\n",
       "1         12.25    21840.0              42.382033   150.369001\n",
       "2         12.25    21870.0              48.675129   150.429335\n",
       "3         12.25    21900.0              30.041290   150.080000\n",
       "4         12.25    21930.0              31.406319   150.032167"
      ]
     },
     "execution_count": 102,
     "metadata": {},
     "output_type": "execute_result"
    }
   ],
   "source": [
    "X.head()"
   ]
  },
  {
   "cell_type": "code",
   "execution_count": 103,
   "id": "ed0f5bc4",
   "metadata": {},
   "outputs": [
    {
     "data": {
      "text/plain": [
       "(6838, 4)"
      ]
     },
     "execution_count": 103,
     "metadata": {},
     "output_type": "execute_result"
    }
   ],
   "source": [
    "X.shape"
   ]
  },
  {
   "cell_type": "code",
   "execution_count": 104,
   "id": "6c1fe3bf",
   "metadata": {},
   "outputs": [
    {
     "name": "stderr",
     "output_type": "stream",
     "text": [
      "C:\\Users\\10256\\AppData\\Local\\Temp/ipykernel_17888/4163686218.py:2: SettingWithCopyWarning: \n",
      "A value is trying to be set on a copy of a slice from a DataFrame.\n",
      "Try using .loc[row_indexer,col_indexer] = value instead\n",
      "\n",
      "See the caveats in the documentation: https://pandas.pydata.org/pandas-docs/stable/user_guide/indexing.html#returning-a-view-versus-a-copy\n",
      "  X['drillbit_size'] = OrdinalEncoder().fit_transform(np.asarray(X['drillbit_size']).reshape(-1,1))\n"
     ]
    }
   ],
   "source": [
    "# Encode the ordinal categorical variable\n",
    "X['drillbit_size'] = OrdinalEncoder().fit_transform(np.asarray(X['drillbit_size']).reshape(-1,1))\n",
    "# Standardize numerical variables\n",
    "X_std = pd.DataFrame(StandardScaler().fit_transform(X))\n",
    "# X = pd.concat([X.iloc[:,:4], X_std], axis=1)\n",
    "# One-hot encoding for non-ordinal categorical variables\n",
    "# X = pd.get_dummies(X)"
   ]
  },
  {
   "cell_type": "code",
   "execution_count": 105,
   "id": "d955f85b",
   "metadata": {},
   "outputs": [
    {
     "data": {
      "text/html": [
       "<div>\n",
       "<style scoped>\n",
       "    .dataframe tbody tr th:only-of-type {\n",
       "        vertical-align: middle;\n",
       "    }\n",
       "\n",
       "    .dataframe tbody tr th {\n",
       "        vertical-align: top;\n",
       "    }\n",
       "\n",
       "    .dataframe thead th {\n",
       "        text-align: right;\n",
       "    }\n",
       "</style>\n",
       "<table border=\"1\" class=\"dataframe\">\n",
       "  <thead>\n",
       "    <tr style=\"text-align: right;\">\n",
       "      <th></th>\n",
       "      <th>drillbit_size</th>\n",
       "      <th>min_depth</th>\n",
       "      <th>surface_weight_on_bit</th>\n",
       "      <th>surface_rpm</th>\n",
       "    </tr>\n",
       "  </thead>\n",
       "  <tbody>\n",
       "    <tr>\n",
       "      <th>0</th>\n",
       "      <td>2.0</td>\n",
       "      <td>21834.5</td>\n",
       "      <td>43.533280</td>\n",
       "      <td>150.369091</td>\n",
       "    </tr>\n",
       "    <tr>\n",
       "      <th>1</th>\n",
       "      <td>2.0</td>\n",
       "      <td>21840.0</td>\n",
       "      <td>42.382033</td>\n",
       "      <td>150.369001</td>\n",
       "    </tr>\n",
       "    <tr>\n",
       "      <th>2</th>\n",
       "      <td>2.0</td>\n",
       "      <td>21870.0</td>\n",
       "      <td>48.675129</td>\n",
       "      <td>150.429335</td>\n",
       "    </tr>\n",
       "    <tr>\n",
       "      <th>3</th>\n",
       "      <td>2.0</td>\n",
       "      <td>21900.0</td>\n",
       "      <td>30.041290</td>\n",
       "      <td>150.080000</td>\n",
       "    </tr>\n",
       "    <tr>\n",
       "      <th>4</th>\n",
       "      <td>2.0</td>\n",
       "      <td>21930.0</td>\n",
       "      <td>31.406319</td>\n",
       "      <td>150.032167</td>\n",
       "    </tr>\n",
       "  </tbody>\n",
       "</table>\n",
       "</div>"
      ],
      "text/plain": [
       "   drillbit_size  min_depth  surface_weight_on_bit  surface_rpm\n",
       "0            2.0    21834.5              43.533280   150.369091\n",
       "1            2.0    21840.0              42.382033   150.369001\n",
       "2            2.0    21870.0              48.675129   150.429335\n",
       "3            2.0    21900.0              30.041290   150.080000\n",
       "4            2.0    21930.0              31.406319   150.032167"
      ]
     },
     "execution_count": 105,
     "metadata": {},
     "output_type": "execute_result"
    }
   ],
   "source": [
    "X.head()"
   ]
  },
  {
   "cell_type": "markdown",
   "id": "a79f3b77",
   "metadata": {},
   "source": [
    "## Reduce Dimentions"
   ]
  },
  {
   "cell_type": "code",
   "execution_count": 106,
   "id": "70229a44",
   "metadata": {},
   "outputs": [
    {
     "data": {
      "image/png": "[encoded data removed]",
      "text/plain": [
       "<Figure size 432x288 with 1 Axes>"
      ]
     },
     "metadata": {
      "needs_background": "light"
     },
     "output_type": "display_data"
    }
   ],
   "source": [
    "# Use PCA method. Find the optimal number of components\n",
    "from sklearn.decomposition import PCA\n",
    "pca_line = PCA().fit(X)\n",
    "plt.plot(np.cumsum(pca_line.explained_variance_ratio_))\n",
    "plt.xlabel(\"number of components after dimension reduction\")\n",
    "plt.ylabel(\"cumulative explained variance ratio\")\n",
    "plt.show()"
   ]
  },
  {
   "cell_type": "code",
   "execution_count": 108,
   "id": "2cb6af72",
   "metadata": {},
   "outputs": [],
   "source": [
    "X_dr = pd.DataFrame(PCA(3).fit_transform(X))"
   ]
  },
  {
   "cell_type": "markdown",
   "id": "7c923403",
   "metadata": {},
   "source": [
    "## Model"
   ]
  },
  {
   "cell_type": "code",
   "execution_count": 109,
   "id": "bc7b9e0a",
   "metadata": {},
   "outputs": [],
   "source": [
    "from sklearn.linear_model import LinearRegression as LR\n",
    "from sklearn.model_selection import train_test_split\n",
    "from sklearn.neighbors import LocalOutlierFactor"
   ]
  },
  {
   "cell_type": "code",
   "execution_count": 110,
   "id": "5e649ecc",
   "metadata": {},
   "outputs": [],
   "source": [
    "# Split the training and testing dataset\n",
    "xtrain, xtest, ytrain, ytest = train_test_split(X_dr, y, test_size=0.25, random_state=17)"
   ]
  },
  {
   "cell_type": "code",
   "execution_count": 111,
   "id": "2acef800",
   "metadata": {},
   "outputs": [],
   "source": [
    "# Detect and delete outliers in the training set\n",
    "lof = LocalOutlierFactor()\n",
    "test_outlier = lof.fit_predict(xtrain)\n",
    "mask = test_outlier != -1"
   ]
  },
  {
   "cell_type": "code",
   "execution_count": 112,
   "id": "697e8daf",
   "metadata": {},
   "outputs": [
    {
     "data": {
      "text/plain": [
       "(5128, 3)"
      ]
     },
     "execution_count": 112,
     "metadata": {},
     "output_type": "execute_result"
    }
   ],
   "source": [
    "xtrain.shape"
   ]
  },
  {
   "cell_type": "code",
   "execution_count": 113,
   "id": "d5bd5200",
   "metadata": {},
   "outputs": [],
   "source": [
    "ytrain = ytrain[mask]\n",
    "xtrain = xtrain[mask]"
   ]
  },
  {
   "cell_type": "code",
   "execution_count": 114,
   "id": "efd2f9b9",
   "metadata": {},
   "outputs": [],
   "source": [
    "reg = LR().fit(xtrain, ytrain)\n",
    "yhat = reg.predict(xtest)"
   ]
  },
  {
   "cell_type": "code",
   "execution_count": 115,
   "id": "a7270c42",
   "metadata": {},
   "outputs": [
    {
     "data": {
      "text/plain": [
       "42.82924787021527"
      ]
     },
     "execution_count": 115,
     "metadata": {},
     "output_type": "execute_result"
    }
   ],
   "source": [
    "from sklearn.metrics import mean_squared_error as MSE\n",
    "Rmse1 = MSE(yhat, ytest)**0.5\n",
    "Rmse1"
   ]
  },
  {
   "cell_type": "code",
   "execution_count": 116,
   "id": "7555fb09",
   "metadata": {},
   "outputs": [
    {
     "data": {
      "text/plain": [
       "48.51135625857584"
      ]
     },
     "execution_count": 116,
     "metadata": {},
     "output_type": "execute_result"
    }
   ],
   "source": [
    "from sklearn.neural_network import MLPRegressor\n",
    "from sklearn.datasets import make_regression\n",
    "\n",
    "regr = MLPRegressor(random_state=17, max_iter=5000).fit(xtrain, ytrain)\n",
    "yhatnn = regr.predict(xtest)\n",
    "Rmse2 = MSE(yhatnn, ytest)**0.5\n",
    "Rmse2"
   ]
  },
  {
   "cell_type": "code",
   "execution_count": null,
   "id": "3b1c9fff",
   "metadata": {},
   "outputs": [],
   "source": []
  },
  {
   "cell_type": "markdown",
   "id": "9246b4cf",
   "metadata": {},
   "source": [
    "## Scoring"
   ]
  },
  {
   "cell_type": "code",
   "execution_count": 89,
   "id": "0361aef2",
   "metadata": {},
   "outputs": [],
   "source": [
    "xscore = pd.read_csv('scoring.csv')\n",
    "result = pd.read_csv('submission_format.csv')"
   ]
  },
  {
   "cell_type": "code",
   "execution_count": 117,
   "id": "146add0e",
   "metadata": {},
   "outputs": [],
   "source": [
    "xscore['drillbit_size'] = xscore['drillbit_size'].astype(object)\n",
    "xscore['drillbit_size'] = OrdinalEncoder().fit_transform(np.asarray(xscore['drillbit_size']).reshape(-1,1))\n",
    "Xscore = xscore[['drillbit_size','min_depth','surface_weight_on_bit','surface_rpm']]\n",
    "X_score_dr = pd.DataFrame(PCA(3).fit_transform(Xscore))\n",
    "yscore = regr.predict(X_score_dr)"
   ]
  },
  {
   "cell_type": "code",
   "execution_count": 118,
   "id": "fe9d69b1",
   "metadata": {},
   "outputs": [],
   "source": [
    "result['rate_of_penetration'] = yscore"
   ]
  },
  {
   "cell_type": "code",
   "execution_count": 119,
   "id": "3e6b95df",
   "metadata": {},
   "outputs": [
    {
     "data": {
      "text/html": [
       "<div>\n",
       "<style scoped>\n",
       "    .dataframe tbody tr th:only-of-type {\n",
       "        vertical-align: middle;\n",
       "    }\n",
       "\n",
       "    .dataframe tbody tr th {\n",
       "        vertical-align: top;\n",
       "    }\n",
       "\n",
       "    .dataframe thead th {\n",
       "        text-align: right;\n",
       "    }\n",
       "</style>\n",
       "<table border=\"1\" class=\"dataframe\">\n",
       "  <thead>\n",
       "    <tr style=\"text-align: right;\">\n",
       "      <th></th>\n",
       "      <th>segment_id</th>\n",
       "      <th>rate_of_penetration</th>\n",
       "    </tr>\n",
       "  </thead>\n",
       "  <tbody>\n",
       "    <tr>\n",
       "      <th>0</th>\n",
       "      <td>wellbore_chev_no_14_665</td>\n",
       "      <td>61.336906</td>\n",
       "    </tr>\n",
       "    <tr>\n",
       "      <th>1</th>\n",
       "      <td>wellbore_chev_no_14_681</td>\n",
       "      <td>44.863293</td>\n",
       "    </tr>\n",
       "    <tr>\n",
       "      <th>2</th>\n",
       "      <td>wellbore_chev_no_14_682</td>\n",
       "      <td>41.765107</td>\n",
       "    </tr>\n",
       "    <tr>\n",
       "      <th>3</th>\n",
       "      <td>wellbore_chev_no_14_683</td>\n",
       "      <td>50.281349</td>\n",
       "    </tr>\n",
       "    <tr>\n",
       "      <th>4</th>\n",
       "      <td>wellbore_chev_no_14_684</td>\n",
       "      <td>43.696437</td>\n",
       "    </tr>\n",
       "    <tr>\n",
       "      <th>...</th>\n",
       "      <td>...</td>\n",
       "      <td>...</td>\n",
       "    </tr>\n",
       "    <tr>\n",
       "      <th>1562</th>\n",
       "      <td>wellbore_chev_no_7_780</td>\n",
       "      <td>62.928996</td>\n",
       "    </tr>\n",
       "    <tr>\n",
       "      <th>1563</th>\n",
       "      <td>wellbore_chev_no_7_781</td>\n",
       "      <td>72.063435</td>\n",
       "    </tr>\n",
       "    <tr>\n",
       "      <th>1564</th>\n",
       "      <td>wellbore_chev_no_7_782</td>\n",
       "      <td>73.653348</td>\n",
       "    </tr>\n",
       "    <tr>\n",
       "      <th>1565</th>\n",
       "      <td>wellbore_chev_no_7_783</td>\n",
       "      <td>68.320213</td>\n",
       "    </tr>\n",
       "    <tr>\n",
       "      <th>1566</th>\n",
       "      <td>wellbore_chev_no_7_784</td>\n",
       "      <td>63.173315</td>\n",
       "    </tr>\n",
       "  </tbody>\n",
       "</table>\n",
       "<p>1567 rows × 2 columns</p>\n",
       "</div>"
      ],
      "text/plain": [
       "                   segment_id  rate_of_penetration\n",
       "0     wellbore_chev_no_14_665            61.336906\n",
       "1     wellbore_chev_no_14_681            44.863293\n",
       "2     wellbore_chev_no_14_682            41.765107\n",
       "3     wellbore_chev_no_14_683            50.281349\n",
       "4     wellbore_chev_no_14_684            43.696437\n",
       "...                       ...                  ...\n",
       "1562   wellbore_chev_no_7_780            62.928996\n",
       "1563   wellbore_chev_no_7_781            72.063435\n",
       "1564   wellbore_chev_no_7_782            73.653348\n",
       "1565   wellbore_chev_no_7_783            68.320213\n",
       "1566   wellbore_chev_no_7_784            63.173315\n",
       "\n",
       "[1567 rows x 2 columns]"
      ]
     },
     "execution_count": 119,
     "metadata": {},
     "output_type": "execute_result"
    }
   ],
   "source": [
    "result"
   ]
  },
  {
   "cell_type": "code",
   "execution_count": 126,
   "id": "3bfe6189",
   "metadata": {},
   "outputs": [],
   "source": [
    "result.to_csv('result.csv')"
   ]
  },
  {
   "cell_type": "code",
   "execution_count": null,
   "id": "b60f0aa8",
   "metadata": {},
   "outputs": [],
   "source": []
  }
 ],
 "metadata": {
  "kernelspec": {
   "display_name": "Python 3 (ipykernel)",
   "language": "python",
   "name": "python3"
  },
  "language_info": {
   "codemirror_mode": {
    "name": "ipython",
    "version": 3
   },
   "file_extension": ".py",
   "mimetype": "text/x-python",
   "name": "python",
   "nbconvert_exporter": "python",
   "pygments_lexer": "ipython3",
   "version": "3.9.7"
  }
 },
 "nbformat": 4,
 "nbformat_minor": 5
}
